{
 "cells": [
  {
   "cell_type": "code",
   "execution_count": 1,
   "metadata": {},
   "outputs": [],
   "source": [
    "# variables with suffix '_n' denote that nudged data are being used\n",
    "# variables with prefix 'd' denote derivative\n",
    "\n",
    "# dependencies\n",
    "using Base.Iterators\n",
    "using MovingWeightedLeastSquares\n",
    "using Plots\n",
    "using Cubature\n",
    "using Interpolations\n",
    "\n",
    "# initialization of PyPlot plotting backend\n",
    "pyplot();"
   ]
  },
  {
   "cell_type": "code",
   "execution_count": 197,
   "metadata": {},
   "outputs": [],
   "source": [
    "# initialize the dataset in this Jupyter notebook cell\n",
    "\n",
    "# from, to, step\n",
    "from = -1.95;\n",
    "to = 1.95;\n",
    "step = 0.975/2^3;\n",
    "# a random number in interval (-ng/2, ng/2) will be added to each x in xs\n",
    "ng = .2;\n",
    "# function to be approximated\n",
    "f = (x, y) -> exp(-(x^2 + y^2));\n",
    "df = (x, y) -> 4 * x * y * exp(-(x^2 + y^2));\n",
    "# weight function\n",
    "w = (d, e) -> exp(-d^2/0.28^2);\n",
    "# degree of used polynomial for approximation\n",
    "deg = 4;\n",
    "# eps of the weight function\n",
    "eps = 2.5*step;\n",
    "# attempts for time measurement\n",
    "time_tries = 10;"
   ]
  },
  {
   "cell_type": "code",
   "execution_count": 198,
   "metadata": {},
   "outputs": [
    {
     "data": {
      "text/plain": [
       "1089"
      ]
     },
     "execution_count": 198,
     "metadata": {},
     "output_type": "execute_result"
    }
   ],
   "source": [
    "rg = from:step:to;\n",
    "tozipxs = collect(from:step:to);\n",
    "xs = transpose(hcat(collect.(collect(product(tozipxs,tozipxs)))[:]...));\n",
    "\n",
    "# comment the line below, if repeated evaluation with the same nudges is needed\n",
    "rnd_n = ng * rand(size(xs)) - ng/2;\n",
    "xs_n = xs .+ rnd_n;\n",
    "\n",
    "fs = [f(xs[i, :]...) for i in 1:size(xs, 1)];\n",
    "fs_n = [f(xs_n[i, :]...) for i in 1:size(xs_n, 1)];\n",
    "dfs = [df(xs[i, :]...) for i in 1:size(xs_n, 1)];\n",
    "dfs_n = [df(xs_n[i, :]...) for i in 1:size(xs_n, 1)];\n",
    "size(xs, 1)"
   ]
  },
  {
   "cell_type": "code",
   "execution_count": 199,
   "metadata": {},
   "outputs": [],
   "source": [
    "# creation of approximation objects\n",
    "nv = mwlsNaive(xs, fs, eps, w, maxDegree = deg);\n",
    "# nv_n = mwlsNaive(xs_n, fs_n, eps, w, maxDegree = deg);\n",
    "kd = mwlsKd(xs, fs, eps, w, maxDegree = deg);\n",
    "# kd_n = mwlsKd(xs_n, fs_n, eps, w, maxDegree = deg);\n",
    "cll = mwlsCll(xs, fs, eps, w, maxDegree = deg);\n",
    "# cll_n = mwlsCll(xs_n, fs_n, eps, w, maxDegree = deg);"
   ]
  },
  {
   "cell_type": "raw",
   "metadata": {},
   "source": [
    "function plot_func(xs::Vector{T}, ys::Vector{T}, zs::Vector{T}, savename::String) where {T <: Real}\n",
    "    p = plot(xs, ys, zs, xlabel = \"x\", ylabel = \"y\", linetype = :surface)\n",
    "    savefig(p, \"$savename.pdf\")\n",
    "    p\n",
    "end"
   ]
  },
  {
   "cell_type": "raw",
   "metadata": {},
   "source": [
    "function plot_func(xs::Array{T}, ys::Vector{T}, savename::String) where {T <: Real}\n",
    "    plot_func(xs[:, 1], xs[:, 2], ys, savename)\n",
    "end"
   ]
  },
  {
   "cell_type": "raw",
   "metadata": {},
   "source": [
    "function plot_func(b::Real, e::Real, f, savename::String; step::Real = 0.1)\n",
    "    tozip = collect(b:step:e)\n",
    "    xs = transpose(hcat(collect.(collect(product(tozip,tozip)))[:]...))\n",
    "    plot_func(xs[:, 1], xs[:, 2], [f(xs[i, 1], xs[i, 2]) for i in 1:size(xs, 1)], savename);\n",
    "end"
   ]
  },
  {
   "cell_type": "raw",
   "metadata": {},
   "source": [
    "function plot_func(b::Real, e::Real, f::MwlsObject, ref, savename::String; step::Real = 0.1)\n",
    "    tozip = collect(b:step:e)\n",
    "    xs = transpose(hcat(collect.(collect(product(tozip,tozip)))[:]...))\n",
    "    ys = [norm(f(xs[i, :]) - ref(xs[i, :]...)) for i in 1:size(xs, 1)]\n",
    "    plot_func(xs[:, 1], xs[:, 2], ys, savename);\n",
    "end"
   ]
  },
  {
   "cell_type": "raw",
   "metadata": {},
   "source": [
    "function plot_func(b::Real, e::Real, f, ref, savename::String; step::Real = 0.1)\n",
    "    tozip = collect(b:step:e)\n",
    "    xs = transpose(hcat(collect.(collect(product(tozip,tozip)))[:]...))\n",
    "    ys = [norm(f[xs[i, :]...] - ref(xs[i, :]...)) for i in 1:size(xs, 1)]\n",
    "    plot_func(xs[:, 1], xs[:, 2], ys, savename);\n",
    "end"
   ]
  },
  {
   "cell_type": "raw",
   "metadata": {},
   "source": [
    "function plot_dfunc_err(b::Real, e::Real, f::MwlsObject, ref, savename::String; step::Real = 0.1)\n",
    "    tozip = collect(b:step:e)\n",
    "    xs = transpose(hcat(collect.(collect(product(tozip,tozip)))[:]...))\n",
    "    ys = [norm(mwlsDiff(f, xs[i, :], (1, 1)) - ref(xs[i, :]...)) for i in 1:size(xs, 1)]\n",
    "    plot_func(xs[:, 1], xs[:, 2], ys, savename)\n",
    "end"
   ]
  },
  {
   "cell_type": "raw",
   "metadata": {},
   "source": [
    "# graph of the original function\n",
    "plot_func(from, to, f, \"orig\")"
   ]
  },
  {
   "cell_type": "raw",
   "metadata": {},
   "source": [
    "plot_func(from, to, df, \"derived\")"
   ]
  },
  {
   "cell_type": "code",
   "execution_count": 200,
   "metadata": {},
   "outputs": [
    {
     "data": {
      "text/plain": [
       "mass_approx (generic function with 1 method)"
      ]
     },
     "execution_count": 200,
     "metadata": {},
     "output_type": "execute_result"
    }
   ],
   "source": [
    "function mass_approx(obj::MwlsObject, xs::Array{T}) where {T <: Real}\n",
    "    [obj(xs[i, :]) for i in 1:size(xs, 1)]\n",
    "end"
   ]
  },
  {
   "cell_type": "code",
   "execution_count": 201,
   "metadata": {},
   "outputs": [
    {
     "data": {
      "text/plain": [
       "mass_diff (generic function with 1 method)"
      ]
     },
     "execution_count": 201,
     "metadata": {},
     "output_type": "execute_result"
    }
   ],
   "source": [
    "function mass_diff(obj::MwlsObject, xs::Array{T}) where {T <: Real}\n",
    "    [mwlsDiff(obj, xs[i, :], (1, 1)) for i in 1:size(xs, 1)]\n",
    "end"
   ]
  },
  {
   "cell_type": "raw",
   "metadata": {},
   "source": [
    "function errfunc(obj::MwlsObject, reffunc::Function, b, e)\n",
    "    hcubature(x -> abs(obj(x) - reffunc(x[1], x[2]))/(e - b)^2, [b, b], [e, e], abstol = 1e-1)\n",
    "end"
   ]
  },
  {
   "cell_type": "raw",
   "metadata": {},
   "source": [
    "function derrfunc(obj::MwlsObject, reffunc::Function, b, e)\n",
    "    hcubature(x -> abs(mwlsDiff(obj, x, (1, 1)) - reffunc(x[1], x[2]))/(e - b)^2, [b, b], [e, e], abstol = 1e-1)\n",
    "end"
   ]
  },
  {
   "cell_type": "code",
   "execution_count": 202,
   "metadata": {},
   "outputs": [],
   "source": [
    "# construction of approximation at each input vector\n",
    "nvs = mass_approx(nv, xs);"
   ]
  },
  {
   "cell_type": "code",
   "execution_count": 203,
   "metadata": {},
   "outputs": [
    {
     "name": "stdout",
     "output_type": "stream",
     "text": [
      "419.341827 seconds (1.76 G allocations: 44.012 GiB, 6.04% gc time)\n"
     ]
    }
   ],
   "source": [
    "@time for i in 1:time_tries\n",
    "    mass_approx(nv, xs)\n",
    "end"
   ]
  },
  {
   "cell_type": "code",
   "execution_count": 204,
   "metadata": {},
   "outputs": [],
   "source": [
    "kds = mass_approx(kd, xs);"
   ]
  },
  {
   "cell_type": "code",
   "execution_count": 205,
   "metadata": {},
   "outputs": [
    {
     "name": "stdout",
     "output_type": "stream",
     "text": [
      "292.071572 seconds (1.36 G allocations: 30.841 GiB, 6.13% gc time)\n"
     ]
    }
   ],
   "source": [
    "@time for i in 1:time_tries\n",
    "    mass_approx(kd, xs)\n",
    "end"
   ]
  },
  {
   "cell_type": "code",
   "execution_count": 206,
   "metadata": {},
   "outputs": [],
   "source": [
    "clls = mass_approx(cll, xs);"
   ]
  },
  {
   "cell_type": "code",
   "execution_count": 207,
   "metadata": {},
   "outputs": [
    {
     "name": "stdout",
     "output_type": "stream",
     "text": [
      "295.283326 seconds (1.38 G allocations: 32.628 GiB, 6.47% gc time)\n"
     ]
    }
   ],
   "source": [
    "@time for i in 1:time_tries\n",
    "    mass_approx(cll, xs)\n",
    "end"
   ]
  },
  {
   "cell_type": "raw",
   "metadata": {},
   "source": [
    "nvs_n = mass_approx(nv_n, xs_n);"
   ]
  },
  {
   "cell_type": "raw",
   "metadata": {},
   "source": [
    "@time for i in 1:time_tries\n",
    "    mass_approx(nv_n, xs_n)\n",
    "end\n"
   ]
  },
  {
   "cell_type": "raw",
   "metadata": {},
   "source": [
    "kds_n = mass_approx(kd_n, xs_n);"
   ]
  },
  {
   "cell_type": "raw",
   "metadata": {},
   "source": [
    "@time for i in 1:time_tries\n",
    "    mass_approx(kd_n, xs_n)\n",
    "end"
   ]
  },
  {
   "cell_type": "raw",
   "metadata": {},
   "source": [
    "clls_n = mass_approx(cll_n, xs_n);"
   ]
  },
  {
   "cell_type": "raw",
   "metadata": {},
   "source": [
    "@time for i in 1:time_tries\n",
    "    mass_approx(cll_n, xs_n)\n",
    "end"
   ]
  },
  {
   "cell_type": "code",
   "execution_count": 208,
   "metadata": {},
   "outputs": [],
   "source": [
    "dnvs = mass_diff(nv, xs);"
   ]
  },
  {
   "cell_type": "code",
   "execution_count": 209,
   "metadata": {},
   "outputs": [
    {
     "name": "stdout",
     "output_type": "stream",
     "text": [
      "434.343218 seconds (1.76 G allocations: 44.053 GiB, 6.02% gc time)\n"
     ]
    }
   ],
   "source": [
    "@time for i in 1:time_tries\n",
    "    mass_diff(nv, xs)\n",
    "end"
   ]
  },
  {
   "cell_type": "code",
   "execution_count": 210,
   "metadata": {},
   "outputs": [],
   "source": [
    "dkds = mass_diff(kd, xs);"
   ]
  },
  {
   "cell_type": "code",
   "execution_count": 211,
   "metadata": {},
   "outputs": [
    {
     "name": "stdout",
     "output_type": "stream",
     "text": [
      "294.011937 seconds (1.36 G allocations: 30.881 GiB, 6.30% gc time)\n"
     ]
    }
   ],
   "source": [
    "@time for i in 1:time_tries\n",
    "    mass_diff(kd, xs);\n",
    "end"
   ]
  },
  {
   "cell_type": "code",
   "execution_count": 212,
   "metadata": {},
   "outputs": [],
   "source": [
    "dclls = mass_diff(cll, xs);"
   ]
  },
  {
   "cell_type": "code",
   "execution_count": 213,
   "metadata": {},
   "outputs": [
    {
     "name": "stdout",
     "output_type": "stream",
     "text": [
      "297.926290 seconds (1.38 G allocations: 32.669 GiB, 6.56% gc time)\n"
     ]
    }
   ],
   "source": [
    "@time for i in 1:time_tries\n",
    "    mass_diff(cll, xs);\n",
    "end"
   ]
  },
  {
   "cell_type": "raw",
   "metadata": {},
   "source": [
    "dnvs_n = mass_diff(nv_n, xs_n);"
   ]
  },
  {
   "cell_type": "raw",
   "metadata": {},
   "source": [
    "@time for i in 1:time_tries\n",
    "    mass_diff(nv_n, xs_n)\n",
    "end"
   ]
  },
  {
   "cell_type": "raw",
   "metadata": {},
   "source": [
    "dkds_n = mass_diff(kd_n, xs_n);"
   ]
  },
  {
   "cell_type": "raw",
   "metadata": {},
   "source": [
    "@time for i in 1:time_tries\n",
    "    mass_diff(kd_n, xs_n);\n",
    "end"
   ]
  },
  {
   "cell_type": "raw",
   "metadata": {},
   "source": [
    "dclls_n = mass_diff(cll_n, xs_n);"
   ]
  },
  {
   "cell_type": "raw",
   "metadata": {},
   "source": [
    "@time for i in 1:time_tries\n",
    "    mass_diff(cll_n, xs_n);\n",
    "end"
   ]
  },
  {
   "cell_type": "raw",
   "metadata": {},
   "source": [
    "# absolute errors of approximations\n",
    "# nverr = abs.(nvs .- fs);\n",
    "# kderr = abs.(kds .- fs);\n",
    "cllerr = abs.(clls .- fs);\n",
    "# dnverr = abs.(dnvs .- dfs);\n",
    "dkderr = abs.(dkds .- dfs);\n",
    "# dcllerr = abs.(dclls .- dfs);\n",
    "# nverr_n = abs.(nvs_n .- fs_n);\n",
    "kderr_n = abs.(kds_n .- fs_n);\n",
    "# cllerr_n = abs.(clls_n .- fs_n);\n",
    "# dnverr_n = abs.(dnvs_n .- dfs_n);\n",
    "# dkderr_n = abs.(dkds_n .- dfs_n);\n",
    "dcllerr_n = abs.(dclls_n .- dfs_n);"
   ]
  },
  {
   "cell_type": "raw",
   "metadata": {},
   "source": [
    "plot_func(xs, nvs, \"trash\")"
   ]
  },
  {
   "cell_type": "raw",
   "metadata": {},
   "source": [
    "plot_func(xs, nverr, \"Absolute error of approximation using naive search\")"
   ]
  },
  {
   "cell_type": "raw",
   "metadata": {},
   "source": [
    "# error of the approximation\n",
    "errfunc(nv, f, from, to)"
   ]
  },
  {
   "cell_type": "raw",
   "metadata": {},
   "source": [
    "plot_func(xs, kds, \"kd-func\")"
   ]
  },
  {
   "cell_type": "raw",
   "metadata": {},
   "source": [
    "plot_func(xs, kderr, \"kd-err\")"
   ]
  },
  {
   "cell_type": "raw",
   "metadata": {},
   "source": [
    "# error of the approximation\n",
    "errfunc(kd, f, from, to)"
   ]
  },
  {
   "cell_type": "raw",
   "metadata": {},
   "source": [
    "plot_func(xs, clls, \"cll-func\")"
   ]
  },
  {
   "cell_type": "raw",
   "metadata": {
    "scrolled": false
   },
   "source": [
    "plot_func(from, to, cll, f, \"cll-err\")"
   ]
  },
  {
   "cell_type": "raw",
   "metadata": {},
   "source": [
    "# error of the approximation\n",
    "errfunc(cll, f, from, to)"
   ]
  },
  {
   "cell_type": "raw",
   "metadata": {},
   "source": [
    "plot_func(xs, dnvs, \"Approximation of 1st derivative using naive search\")"
   ]
  },
  {
   "cell_type": "raw",
   "metadata": {},
   "source": [
    "plot_func(xs, dnverr, \"Absolute error of approximation of 1st derivate using naive search\")"
   ]
  },
  {
   "cell_type": "raw",
   "metadata": {},
   "source": [
    "derrfunc(nv, df, from, to)"
   ]
  },
  {
   "cell_type": "raw",
   "metadata": {},
   "source": [
    "plot_dfunc_err(from, to, kd, df, \"dkd-err\")"
   ]
  },
  {
   "cell_type": "raw",
   "metadata": {
    "scrolled": false
   },
   "source": [
    "plot_func(xs, dkderr, \"trash\")"
   ]
  },
  {
   "cell_type": "raw",
   "metadata": {},
   "source": [
    "derrfunc(kd, df, from, to)"
   ]
  },
  {
   "cell_type": "raw",
   "metadata": {},
   "source": [
    "plot_func(xs, dclls, \"dcll\")"
   ]
  },
  {
   "cell_type": "raw",
   "metadata": {},
   "source": [
    "plot_func(xs, dcllerr, \"dcll-err\")"
   ]
  },
  {
   "cell_type": "raw",
   "metadata": {},
   "source": [
    "derrfunc(cll, df, from, to)"
   ]
  },
  {
   "cell_type": "raw",
   "metadata": {},
   "source": [
    "plot_func(xs_n, nvs_n, \"Approximation using nudged data and naive search\")"
   ]
  },
  {
   "cell_type": "raw",
   "metadata": {},
   "source": [
    "plot_func(xs_n, nverr_n, \"Absolute error of approximation using nudged data and naive search\")"
   ]
  },
  {
   "cell_type": "raw",
   "metadata": {},
   "source": [
    "# error of the approximation\n",
    "errfunc(nv_n, f, from, to)"
   ]
  },
  {
   "cell_type": "raw",
   "metadata": {},
   "source": [
    "plot_func(from, to, kd_n, f, \"kd-err-n\")"
   ]
  },
  {
   "cell_type": "raw",
   "metadata": {},
   "source": [
    "plot_dfunc_err(from, to, kd_n, df, \"dkd-err-n\")"
   ]
  },
  {
   "cell_type": "raw",
   "metadata": {},
   "source": [
    "# error of the approximation\n",
    "errfunc(kd_n, f, from, to)"
   ]
  },
  {
   "cell_type": "raw",
   "metadata": {},
   "source": [
    "plot_func(xs_n, clls_n, \"cll-n\")"
   ]
  },
  {
   "cell_type": "raw",
   "metadata": {},
   "source": [
    "plot_func(xs_n, cllerr_n, \"cll-err-n\")"
   ]
  },
  {
   "cell_type": "raw",
   "metadata": {},
   "source": [
    "# error of the approximation\n",
    "errfunc(cll_n, f, from, to)"
   ]
  },
  {
   "cell_type": "raw",
   "metadata": {},
   "source": [
    "plot_func(xs_n, dnvs_n, \"Approximation of 1st derivative using nudged data and naive search\")"
   ]
  },
  {
   "cell_type": "raw",
   "metadata": {},
   "source": [
    "plot_func(xs_n, dnverr_n, \"Absolute error of approximation of 1st derivative using nudged data and naive search\")"
   ]
  },
  {
   "cell_type": "raw",
   "metadata": {},
   "source": [
    "derrfunc(nv_n, df, from, to)"
   ]
  },
  {
   "cell_type": "raw",
   "metadata": {},
   "source": [
    "plot_func(xs_n, dkds_n, \"dkd-n\")"
   ]
  },
  {
   "cell_type": "raw",
   "metadata": {},
   "source": [
    "plot_func(xs_n, dkderr_n, \"dkd-err-n\")"
   ]
  },
  {
   "cell_type": "raw",
   "metadata": {},
   "source": [
    "derrfunc(kd_n, df, from, to)"
   ]
  },
  {
   "cell_type": "raw",
   "metadata": {},
   "source": [
    "plot_func(xs_n, dclls, \"dcll-n\")"
   ]
  },
  {
   "cell_type": "raw",
   "metadata": {},
   "source": [
    "plot_dfunc_err(from, to, cll_n, df, \"dcll-err-n\")"
   ]
  },
  {
   "cell_type": "raw",
   "metadata": {},
   "source": [
    "derrfunc(cll_n, df, from, to)"
   ]
  },
  {
   "cell_type": "code",
   "execution_count": 214,
   "metadata": {},
   "outputs": [
    {
     "data": {
      "text/plain": [
       "interpolations_mass_approx (generic function with 1 method)"
      ]
     },
     "execution_count": 214,
     "metadata": {},
     "output_type": "execute_result"
    }
   ],
   "source": [
    "function interpolations_mass_approx(obj, xs::Array{T}) where {T <: Real}\n",
    "    [obj[xs[i, :]...] for i in 1:size(xs, 1)]\n",
    "end"
   ]
  },
  {
   "cell_type": "raw",
   "metadata": {},
   "source": [
    "function interpolations_mass_diff(obj, xs::Array{T}) where {T <: Real}\n",
    "    [gradient(obj, xs[i, :]...) for i in 1:size(xs, 1)]\n",
    "end"
   ]
  },
  {
   "cell_type": "raw",
   "metadata": {},
   "source": [
    "function interpolations_errfunc(obj, reffunc, b, e)\n",
    "    hcubature(x -> abs(obj[x...] - reffunc(x[1], x[2]))/(e - b)^2, [b, b], [e, e], abstol = 1e-2)\n",
    "end"
   ]
  },
  {
   "cell_type": "raw",
   "metadata": {},
   "source": [
    "function interpolations_derrfunc(obj, reffunc, b, e)\n",
    "    hcubature(x -> abs(gradient(obj, x...)[1] - reffunc(x))/(e - b)^2, [b, b], [e, e], abstol = 1e-2)\n",
    "end"
   ]
  },
  {
   "cell_type": "code",
   "execution_count": 215,
   "metadata": {},
   "outputs": [],
   "source": [
    "# init of the interpolation object from Interpolations.jl\n",
    "itp = scale(interpolate([f(x1, x2) for x1 in rg, x2 in rg], BSpline(Cubic(Line())), OnGrid()), rg, rg);"
   ]
  },
  {
   "cell_type": "raw",
   "metadata": {},
   "source": [
    "# init of the interpolation object using nudged outputs\n",
    "itprnd = [rnd_n[16 * x1 + x2] for x1 in 0:length(rg)-1, x2 in 1:length(rg)]\n",
    "itp_n = scale(interpolate([f(x1, x2) for x1 in rg, x2 in rg] + itprnd, BSpline(Cubic(Line())), OnGrid()), rg, rg);"
   ]
  },
  {
   "cell_type": "code",
   "execution_count": 216,
   "metadata": {},
   "outputs": [],
   "source": [
    "# result of approximation\n",
    "itps = interpolations_mass_approx(itp, xs);"
   ]
  },
  {
   "cell_type": "code",
   "execution_count": 217,
   "metadata": {},
   "outputs": [
    {
     "name": "stdout",
     "output_type": "stream",
     "text": [
      "  0.004251 seconds (71.17 k allocations: 2.002 MiB)\n"
     ]
    }
   ],
   "source": [
    "@time for i in 1:time_tries\n",
    "    interpolations_mass_approx(itp, xs)\n",
    "end"
   ]
  },
  {
   "cell_type": "raw",
   "metadata": {},
   "source": [
    "ditps = interpolations_mass_diff(itp, xs);"
   ]
  },
  {
   "cell_type": "raw",
   "metadata": {},
   "source": [
    "@time for i in 1:time_tries\n",
    "    interpolations_mass_diff(itp, xs)\n",
    "end"
   ]
  },
  {
   "cell_type": "raw",
   "metadata": {},
   "source": [
    "itps_n = interpolations_mass_approx(itp_n, xs_n);"
   ]
  },
  {
   "cell_type": "raw",
   "metadata": {},
   "source": [
    "@time begin\n",
    "    for i in 1:time_tries\n",
    "        interpolations_mass_approx(itp_n, xs_n);\n",
    "    end\n",
    "end"
   ]
  },
  {
   "cell_type": "raw",
   "metadata": {},
   "source": [
    "ditps_n = interpolations_mass_diff(itp_n, xs_n);"
   ]
  },
  {
   "cell_type": "raw",
   "metadata": {},
   "source": [
    "@time for i in 1:time_tries\n",
    "    interpolations_mass_diff(itp_n, xs_n)\n",
    "end"
   ]
  },
  {
   "cell_type": "raw",
   "metadata": {},
   "source": [
    "itperr = abs.(fs .- itps);\n",
    "itperr_n = abs.(fs_n .- itps_n);\n",
    "# ditperr = abs.(dfs .- ditps);\n",
    "# ditperr_n = abs.(dfs_n .- ditps_n);"
   ]
  },
  {
   "cell_type": "raw",
   "metadata": {},
   "source": [
    "plot_func(xs, itps, \"bsplines\")"
   ]
  },
  {
   "cell_type": "raw",
   "metadata": {},
   "source": [
    "plot_func(from, to, itp, f, \"bsplines-err\")"
   ]
  },
  {
   "cell_type": "raw",
   "metadata": {},
   "source": [
    "interpolations_errfunc(itp, f, from, to)"
   ]
  },
  {
   "cell_type": "raw",
   "metadata": {},
   "source": [
    "plot_func(xs, ditps, \"dbsplines\")"
   ]
  },
  {
   "cell_type": "raw",
   "metadata": {},
   "source": [
    "plot_func(xs, ditperr, \"dbsplines-err\")"
   ]
  },
  {
   "cell_type": "raw",
   "metadata": {},
   "source": [
    "interpolations_derrfunc(itp, df, from, to)"
   ]
  },
  {
   "cell_type": "raw",
   "metadata": {},
   "source": [
    "plot_func(xs_n, itps_n, \"bsplines-n\")"
   ]
  },
  {
   "cell_type": "raw",
   "metadata": {},
   "source": [
    "plot_func(xs_n, itperr_n, \"bsplines-err-n\")"
   ]
  },
  {
   "cell_type": "raw",
   "metadata": {},
   "source": [
    "interpolations_errfunc(itp_n, f, from, to)"
   ]
  },
  {
   "cell_type": "raw",
   "metadata": {},
   "source": [
    "plot_func(xs_n, ditps_n, \"Approximation of 1st derivative using nudged data and quadratic B-splines\")"
   ]
  },
  {
   "cell_type": "raw",
   "metadata": {},
   "source": [
    "plot_func(xs_n, ditperr_n, \"Absolute error of approximation of 1st derivative using nudged data and quadratic B-splines\")"
   ]
  },
  {
   "cell_type": "raw",
   "metadata": {},
   "source": [
    "interpolations_derrfunc(itp_n, df, from, to)"
   ]
  }
 ],
 "metadata": {
  "kernelspec": {
   "display_name": "Julia 0.6.2",
   "language": "julia",
   "name": "julia-0.6"
  },
  "language_info": {
   "file_extension": ".jl",
   "mimetype": "application/julia",
   "name": "julia",
   "version": "0.6.2"
  }
 },
 "nbformat": 4,
 "nbformat_minor": 2
}
