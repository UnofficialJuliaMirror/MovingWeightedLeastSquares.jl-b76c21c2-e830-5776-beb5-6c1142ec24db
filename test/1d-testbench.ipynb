{
 "cells": [
  {
   "cell_type": "code",
   "execution_count": 1,
   "metadata": {},
   "outputs": [],
   "source": [
    "# variables with suffix '_n' denote that nudged data are being used\n",
    "# variables with prefix 'd' denote derivative\n",
    "\n",
    "# dependencies\n",
    "using MovingWeightedLeastSquares\n",
    "using Plots\n",
    "using Cubature\n",
    "using Interpolations\n",
    "using Base.Profile\n",
    "\n",
    "# initialization of PGFPlots plotting backend\n",
    "pgfplots();"
   ]
  },
  {
   "cell_type": "code",
   "execution_count": 922,
   "metadata": {},
   "outputs": [],
   "source": [
    "# initialize the dataset in this Jupyter notebook cell\n",
    "\n",
    "# from, to, step\n",
    "from = -50;\n",
    "to = 50;\n",
    "step = .2;\n",
    "# a random number in interval (-ng/2, ng/2) will be added to each x in xs\n",
    "ng = .2;\n",
    "# function to be approximated\n",
    "f = x -> sin(2x)/2 + 10;\n",
    "df = x -> cos(2x)\n",
    "# weight function\n",
    "w = (d, e) -> exp(-d^2/step^2);\n",
    "# degree of used polynomial for approximation\n",
    "deg = 2;\n",
    "# eps of the weight function\n",
    "eps = .6;\n",
    "# attempts for time measurement\n",
    "time_tries = 10;"
   ]
  },
  {
   "cell_type": "code",
   "execution_count": 924,
   "metadata": {},
   "outputs": [
    {
     "data": {
      "text/plain": [
       "501-element Array{Float64,1}:\n",
       " -50.0\n",
       " -49.8\n",
       " -49.6\n",
       " -49.4\n",
       " -49.2\n",
       " -49.0\n",
       " -48.8\n",
       " -48.6\n",
       " -48.4\n",
       " -48.2\n",
       " -48.0\n",
       " -47.8\n",
       " -47.6\n",
       "   ⋮  \n",
       "  47.8\n",
       "  48.0\n",
       "  48.2\n",
       "  48.4\n",
       "  48.6\n",
       "  48.8\n",
       "  49.0\n",
       "  49.2\n",
       "  49.4\n",
       "  49.6\n",
       "  49.8\n",
       "  50.0"
      ]
     },
     "execution_count": 924,
     "metadata": {},
     "output_type": "execute_result"
    }
   ],
   "source": [
    "rg = from:step:to\n",
    "xs = collect(rg);\n",
    "# comment the line below, if repeated evaluation with the same nudges is needed\n",
    "rnd_n = ng * rand(size(xs)) - ng/2;\n",
    "xs_n = xs .+ rnd_n;\n",
    "fs = [f(x) for x in xs];\n",
    "fs_n = [f(x) for x in xs_n];\n",
    "dfs = [df(x) for x in xs];\n",
    "dfs_n = [df(x) for x in xs_n];\n",
    "\n",
    "# creation of approximation objects\n",
    "nv = mwlsNaive(xs, fs, eps, w, maxDegree = deg);\n",
    "nv_n = mwlsNaive(xs_n, fs_n, eps, w, maxDegree = deg);\n",
    "kd = mwlsKd(xs, fs, eps, w, maxDegree = deg);\n",
    "kd_n = mwlsKd(xs_n, fs_n, eps, w, maxDegree = deg);\n",
    "cll = mwlsCll(xs, fs, eps, w, maxDegree = deg);\n",
    "cll_n = mwlsCll(xs_n, fs_n, eps, w, maxDegree = deg);\n",
    "xs"
   ]
  },
  {
   "cell_type": "raw",
   "metadata": {},
   "source": [
    "function plot_func(xs::Vector{T}, ys::Vector{T}, title::String = \"\") where {T <: Real}\n",
    "    plot(xs, ys, label = false, title = title)\n",
    "end"
   ]
  },
  {
   "cell_type": "raw",
   "metadata": {},
   "source": [
    "# graph of the original function\n",
    "plot_func(xs, fs, \"sin(2x)/2 + 10\")"
   ]
  },
  {
   "cell_type": "raw",
   "metadata": {},
   "source": [
    "plot_func(xs, dfs, \"cos(2x)\")"
   ]
  },
  {
   "cell_type": "raw",
   "metadata": {},
   "source": [
    "function mass_approx(obj::MwlsObject, xs::Array{T}) where {T <: Real}\n",
    "    [obj(x) for x in xs]\n",
    "end"
   ]
  },
  {
   "cell_type": "raw",
   "metadata": {},
   "source": [
    "function mass_diff(obj::MwlsObject, xs::Array{T}) where {T <: Real}\n",
    "    [mwlsDiff(obj, x, 1) for x in xs]\n",
    "end"
   ]
  },
  {
   "cell_type": "raw",
   "metadata": {},
   "source": [
    "function errfunc(obj::MwlsObject, reffunc::Function, b, e)\n",
    "    hquadrature(x -> abs(obj(x) - reffunc(x))/(e - b), b, e, abstol = 1e-8)\n",
    "end"
   ]
  },
  {
   "cell_type": "raw",
   "metadata": {},
   "source": [
    "function derrfunc(obj::MwlsObject, reffunc::Function, b, e)\n",
    "    hquadrature(x -> abs(mwlsDiff(obj, x, 1) - reffunc(x))/(e - b), b, e, abstol = 1e-8 )\n",
    "end"
   ]
  },
  {
   "cell_type": "raw",
   "metadata": {},
   "source": [
    "# construction of approximation at each input vector\n",
    "nvs = mass_approx(nv, xs);"
   ]
  },
  {
   "cell_type": "raw",
   "metadata": {},
   "source": [
    "@time begin \n",
    "    for i in 1:time_tries\n",
    "        mass_approx(nv, xs)\n",
    "    end\n",
    "end"
   ]
  },
  {
   "cell_type": "raw",
   "metadata": {},
   "source": [
    "kds = mass_approx(kd, xs);"
   ]
  },
  {
   "cell_type": "raw",
   "metadata": {},
   "source": [
    "@time begin\n",
    "    for i in 1:time_tries\n",
    "        mass_approx(kd, xs)\n",
    "    end\n",
    "end"
   ]
  },
  {
   "cell_type": "raw",
   "metadata": {},
   "source": [
    "clls = mass_approx(cll, xs);"
   ]
  },
  {
   "cell_type": "raw",
   "metadata": {},
   "source": [
    "@time begin\n",
    "    for i in 1:time_tries\n",
    "        mass_approx(cll, xs)\n",
    "    end\n",
    "end"
   ]
  },
  {
   "cell_type": "raw",
   "metadata": {},
   "source": [
    "nvs_n = mass_approx(nv_n, xs_n);"
   ]
  },
  {
   "cell_type": "raw",
   "metadata": {},
   "source": [
    "@time begin\n",
    "    for i in 1:time_tries\n",
    "        mass_approx(nv_n, xs_n)\n",
    "    end\n",
    "end"
   ]
  },
  {
   "cell_type": "raw",
   "metadata": {},
   "source": [
    "kds_n = mass_approx(kd_n, xs_n);"
   ]
  },
  {
   "cell_type": "raw",
   "metadata": {},
   "source": [
    "@time begin\n",
    "    for i in 1:time_tries\n",
    "        mass_approx(kd_n, xs_n)\n",
    "    end\n",
    "end"
   ]
  },
  {
   "cell_type": "raw",
   "metadata": {},
   "source": [
    "clls_n = mass_approx(cll_n, xs_n);"
   ]
  },
  {
   "cell_type": "raw",
   "metadata": {},
   "source": [
    "@time begin\n",
    "    for i in 1:time_tries\n",
    "        mass_approx(cll_n, xs_n)\n",
    "    end\n",
    "end"
   ]
  },
  {
   "cell_type": "code",
   "execution_count": 925,
   "metadata": {},
   "outputs": [],
   "source": [
    "dnvs = mass_diff(nv, xs);"
   ]
  },
  {
   "cell_type": "code",
   "execution_count": 926,
   "metadata": {},
   "outputs": [
    {
     "name": "stdout",
     "output_type": "stream",
     "text": [
      " 19.395030 seconds (89.05 M allocations: 3.046 GiB, 8.35% gc time)\n"
     ]
    }
   ],
   "source": [
    "@time for i in 1:time_tries\n",
    "    mass_diff(nv, xs)\n",
    "end"
   ]
  },
  {
   "cell_type": "code",
   "execution_count": 927,
   "metadata": {},
   "outputs": [],
   "source": [
    "dkds = mass_diff(kd, xs);"
   ]
  },
  {
   "cell_type": "code",
   "execution_count": 944,
   "metadata": {},
   "outputs": [
    {
     "name": "stdout",
     "output_type": "stream",
     "text": [
      "  2.873261 seconds (11.63 M allocations: 340.878 MiB, 6.53% gc time)\n"
     ]
    }
   ],
   "source": [
    "@time for i in 1:time_tries\n",
    "    mass_diff(kd, xs);\n",
    "end"
   ]
  },
  {
   "cell_type": "code",
   "execution_count": 929,
   "metadata": {},
   "outputs": [],
   "source": [
    "dclls = mass_diff(cll, xs);"
   ]
  },
  {
   "cell_type": "code",
   "execution_count": 930,
   "metadata": {},
   "outputs": [
    {
     "name": "stdout",
     "output_type": "stream",
     "text": [
      "  5.405187 seconds (18.78 M allocations: 1020.478 MiB, 7.47% gc time)\n"
     ]
    }
   ],
   "source": [
    "@time for i in 1:time_tries\n",
    "    mass_diff(cll, xs);\n",
    "end"
   ]
  },
  {
   "cell_type": "code",
   "execution_count": 931,
   "metadata": {},
   "outputs": [],
   "source": [
    "dnvs_n = mass_diff(nv_n, xs_n);"
   ]
  },
  {
   "cell_type": "code",
   "execution_count": 932,
   "metadata": {},
   "outputs": [
    {
     "name": "stdout",
     "output_type": "stream",
     "text": [
      " 19.060754 seconds (87.11 M allocations: 2.995 GiB, 8.58% gc time)\n"
     ]
    }
   ],
   "source": [
    "@time for i in 1:time_tries\n",
    "    mass_diff(nv_n, xs_n)\n",
    "end"
   ]
  },
  {
   "cell_type": "code",
   "execution_count": 933,
   "metadata": {},
   "outputs": [],
   "source": [
    "dkds_n = mass_diff(kd_n, xs_n);"
   ]
  },
  {
   "cell_type": "code",
   "execution_count": 934,
   "metadata": {},
   "outputs": [
    {
     "name": "stdout",
     "output_type": "stream",
     "text": [
      "  3.002485 seconds (11.92 M allocations: 348.607 MiB, 6.29% gc time)\n"
     ]
    }
   ],
   "source": [
    "@time for i in 1:time_tries\n",
    "    mass_diff(kd_n, xs_n);\n",
    "end"
   ]
  },
  {
   "cell_type": "code",
   "execution_count": 935,
   "metadata": {},
   "outputs": [],
   "source": [
    "dclls_n = mass_diff(cll_n, xs_n);"
   ]
  },
  {
   "cell_type": "code",
   "execution_count": 936,
   "metadata": {},
   "outputs": [
    {
     "name": "stdout",
     "output_type": "stream",
     "text": [
      "  4.519199 seconds (16.83 M allocations: 967.509 MiB, 8.02% gc time)\n"
     ]
    }
   ],
   "source": [
    "@time for i in 1:time_tries\n",
    "    mass_diff(cll_n, xs_n);\n",
    "end"
   ]
  },
  {
   "cell_type": "raw",
   "metadata": {},
   "source": [
    "# absolute errors of approximations\n",
    "nverr = abs.(nvs .- fs);\n",
    "kderr = abs.(kds .- fs);\n",
    "cllerr = abs.(clls .- fs);\n",
    "dnverr = abs.(dnvs .- dfs);\n",
    "dkderr = abs.(dkds .- dfs);\n",
    "dcllerr = abs.(dclls .- dfs);\n",
    "nverr_n = abs.(nvs_n .- fs_n);\n",
    "kderr_n = abs.(kds_n .- fs_n);\n",
    "cllerr_n = abs.(clls_n .- fs_n);\n",
    "dnverr_n = abs.(dnvs_n .- dfs_n);\n",
    "dkderr_n = abs.(dkds_n .- dfs_n);\n",
    "dcllerr_n = abs.(dclls_n .- dfs_n);"
   ]
  },
  {
   "cell_type": "raw",
   "metadata": {},
   "source": [
    "plot_func(xs, nvs, \"Approximation using naive search\")"
   ]
  },
  {
   "cell_type": "raw",
   "metadata": {},
   "source": [
    "plot_func(xs, nverr, \"Absolute error of approximation using naive search\")"
   ]
  },
  {
   "cell_type": "raw",
   "metadata": {},
   "source": [
    "# error of the approximation\n",
    "errfunc(nv, f, from, to)"
   ]
  },
  {
   "cell_type": "raw",
   "metadata": {},
   "source": [
    "plot_func(xs, kds, \"Approximation using k-d tree\")"
   ]
  },
  {
   "cell_type": "raw",
   "metadata": {},
   "source": [
    "plot_func(xs, kderr, \"Absolute error of approximation using k-d tree\")"
   ]
  },
  {
   "cell_type": "raw",
   "metadata": {},
   "source": [
    "# error of the approximation\n",
    "errfunc(kd, f, from, to)"
   ]
  },
  {
   "cell_type": "raw",
   "metadata": {},
   "source": [
    "plot_func(xs, clls, \"Approximation using cell linked list\")"
   ]
  },
  {
   "cell_type": "raw",
   "metadata": {},
   "source": [
    "plot_func(xs, cllerr, \"Absolute error of approximation using cell linked list\")"
   ]
  },
  {
   "cell_type": "raw",
   "metadata": {},
   "source": [
    "# error of the approximation\n",
    "errfunc(cll, f, from, to)"
   ]
  },
  {
   "cell_type": "raw",
   "metadata": {},
   "source": [
    "plot_func(xs, dnvs, \"Approximation of 1st derivative using naive search\")"
   ]
  },
  {
   "cell_type": "raw",
   "metadata": {},
   "source": [
    "plot_func(xs, dnverr, \"Absolute error of approximation of 1st derivate using naive search\")"
   ]
  },
  {
   "cell_type": "raw",
   "metadata": {},
   "source": [
    "derrfunc(nv, df, from, to)"
   ]
  },
  {
   "cell_type": "raw",
   "metadata": {},
   "source": [
    "plot_func(xs, dkds, \"Approximation of 1st derivative using k-d tree\")"
   ]
  },
  {
   "cell_type": "raw",
   "metadata": {
    "scrolled": false
   },
   "source": [
    "plot_func(xs, dkderr, \"Absolute error of approximation of 1st derivative using k-d tree\")"
   ]
  },
  {
   "cell_type": "raw",
   "metadata": {},
   "source": [
    "derrfunc(kd, df, from, to)"
   ]
  },
  {
   "cell_type": "raw",
   "metadata": {},
   "source": [
    "plot_func(xs, dclls, \"Approximation of 1st derivative using cell linked list\")"
   ]
  },
  {
   "cell_type": "raw",
   "metadata": {},
   "source": [
    "plot_func(xs, dcllerr, \"Absolute error of approximation of 1st derivative using cell linked list\")"
   ]
  },
  {
   "cell_type": "raw",
   "metadata": {},
   "source": [
    "derrfunc(cll, df, from, to)"
   ]
  },
  {
   "cell_type": "raw",
   "metadata": {},
   "source": [
    "plot_func(xs_n, nvs_n, \"Approximation using nudged data and naive search\")"
   ]
  },
  {
   "cell_type": "raw",
   "metadata": {},
   "source": [
    "plot_func(xs_n, nverr_n, \"Absolute error of approximation using nudged data and naive search\")"
   ]
  },
  {
   "cell_type": "raw",
   "metadata": {},
   "source": [
    "# error of the approximation\n",
    "errfunc(nv_n, f, from, to)"
   ]
  },
  {
   "cell_type": "raw",
   "metadata": {},
   "source": [
    "plot_func(xs_n, kds_n, \"Approximation using nudged data and k-d tree\")"
   ]
  },
  {
   "cell_type": "raw",
   "metadata": {},
   "source": [
    "plot_func(xs_n, kderr_n, \"Absolute error of approximation using nudged data and k-d tree\")"
   ]
  },
  {
   "cell_type": "raw",
   "metadata": {},
   "source": [
    "# error of the approximation\n",
    "errfunc(kd_n, f, from, to)"
   ]
  },
  {
   "cell_type": "raw",
   "metadata": {},
   "source": [
    "plot_func(xs_n, clls_n, \"Approximation using nudged data and cell linked list\")"
   ]
  },
  {
   "cell_type": "raw",
   "metadata": {},
   "source": [
    "plot_func(xs_n, cllerr_n, \"Absolute error of approximation using nudged data and cell linked list\")"
   ]
  },
  {
   "cell_type": "raw",
   "metadata": {},
   "source": [
    "# error of the approximation\n",
    "errfunc(cll_n, f, from, to)"
   ]
  },
  {
   "cell_type": "raw",
   "metadata": {},
   "source": [
    "plot_func(xs_n, dnvs_n, \"Approximation of 1st derivative using nudged data and naive search\")"
   ]
  },
  {
   "cell_type": "raw",
   "metadata": {},
   "source": [
    "plot_func(xs_n, dnverr_n, \"Absolute error of approximation of 1st derivative using nudged data and naive search\")"
   ]
  },
  {
   "cell_type": "raw",
   "metadata": {},
   "source": [
    "derrfunc(nv_n, df, from, to)"
   ]
  },
  {
   "cell_type": "raw",
   "metadata": {},
   "source": [
    "plot_func(xs_n, dkds_n, \"Approximation of 1st derivative using nudged data and k-d tree\")"
   ]
  },
  {
   "cell_type": "raw",
   "metadata": {},
   "source": [
    "plot_func(xs_n, dkderr_n, \"Absolute error of approximation of 1st derivative using nudged data k-d tree\")"
   ]
  },
  {
   "cell_type": "raw",
   "metadata": {},
   "source": [
    "derrfunc(kd_n, df, from, to)"
   ]
  },
  {
   "cell_type": "raw",
   "metadata": {},
   "source": [
    "plot_func(xs_n, dclls, \"Approximation of 1st derivative using nudged data and cell linked list\")"
   ]
  },
  {
   "cell_type": "raw",
   "metadata": {},
   "source": [
    "plot_func(xs_n, dcllerr_n, \"Absolute error of approximation of 1st derivative using nudged data and cell linked list\")"
   ]
  },
  {
   "cell_type": "raw",
   "metadata": {},
   "source": [
    "derrfunc(cll_n, df, from, to)"
   ]
  },
  {
   "cell_type": "raw",
   "metadata": {},
   "source": [
    "function interpolations_mass_approx(obj, xs::Array{T}) where {T <: Real}\n",
    "    [obj[x] for x in xs]\n",
    "end"
   ]
  },
  {
   "cell_type": "raw",
   "metadata": {},
   "source": [
    "function interpolations_mass_diff(obj, xs::Array{T}) where {T <: Real}\n",
    "    [gradient(obj, x)[1] for x in xs]\n",
    "end"
   ]
  },
  {
   "cell_type": "raw",
   "metadata": {},
   "source": [
    "function interpolations_errfunc(obj, reffunc, b, e)\n",
    "    hquadrature(x -> abs(obj[x] - reffunc(x))/(e - b), b, e, abstol = 1e-8)\n",
    "end"
   ]
  },
  {
   "cell_type": "raw",
   "metadata": {},
   "source": [
    "function interpolations_derrfunc(obj, reffunc, b, e)\n",
    "    hquadrature(x -> abs(gradient(obj, x)[1] - reffunc(x))/(e - b), b, e, abstol = 1e-8)\n",
    "end"
   ]
  },
  {
   "cell_type": "code",
   "execution_count": 937,
   "metadata": {},
   "outputs": [],
   "source": [
    "# init of the interpolation object from Interpolations.jl\n",
    "itp = scale(interpolate(fs, BSpline(Quadratic(Free())), OnGrid()), rg);"
   ]
  },
  {
   "cell_type": "code",
   "execution_count": 938,
   "metadata": {},
   "outputs": [],
   "source": [
    "# init of the interpolation object using nudged outputs\n",
    "itp_n = scale(interpolate(fs_n, BSpline(Quadratic(Free())), OnGrid()), rg);"
   ]
  },
  {
   "cell_type": "raw",
   "metadata": {},
   "source": [
    "# result of approximation\n",
    "itps = interpolations_mass_approx(itp, xs);"
   ]
  },
  {
   "cell_type": "raw",
   "metadata": {},
   "source": [
    "@time begin \n",
    "    for i in 1:time_tries\n",
    "        interpolations_mass_approx(itp, xs)\n",
    "    end\n",
    "end"
   ]
  },
  {
   "cell_type": "code",
   "execution_count": 939,
   "metadata": {},
   "outputs": [],
   "source": [
    "ditps = interpolations_mass_diff(itp, xs);"
   ]
  },
  {
   "cell_type": "code",
   "execution_count": 940,
   "metadata": {},
   "outputs": [
    {
     "name": "stdout",
     "output_type": "stream",
     "text": [
      "  0.000689 seconds (10.06 k allocations: 589.406 KiB)\n"
     ]
    }
   ],
   "source": [
    "@time for i in 1:time_tries\n",
    "    interpolations_mass_diff(itp, xs)\n",
    "end"
   ]
  },
  {
   "cell_type": "raw",
   "metadata": {},
   "source": [
    "itps_n = interpolations_mass_approx(itp_n, xs_n);"
   ]
  },
  {
   "cell_type": "raw",
   "metadata": {},
   "source": [
    "@time begin\n",
    "    for i in 1:time_tries\n",
    "        interpolations_mass_approx(itp_n, xs_n);\n",
    "    end\n",
    "end"
   ]
  },
  {
   "cell_type": "code",
   "execution_count": 941,
   "metadata": {},
   "outputs": [],
   "source": [
    "ditps_n = interpolations_mass_diff(itp_n, xs_n);"
   ]
  },
  {
   "cell_type": "code",
   "execution_count": 942,
   "metadata": {},
   "outputs": [
    {
     "name": "stdout",
     "output_type": "stream",
     "text": [
      "  0.000460 seconds (10.06 k allocations: 589.406 KiB)\n"
     ]
    }
   ],
   "source": [
    "@time for i in 1:time_tries\n",
    "    interpolations_mass_diff(itp_n, xs_n)\n",
    "end"
   ]
  },
  {
   "cell_type": "raw",
   "metadata": {},
   "source": [
    "itperr = abs.(fs .- itps);\n",
    "itperr_n = abs.(fs_n .- itps_n);\n",
    "ditperr = abs.(dfs .- ditps);\n",
    "ditperr_n = abs.(dfs_n .- ditps_n);"
   ]
  },
  {
   "cell_type": "raw",
   "metadata": {},
   "source": [
    "plot_func(xs, itps, \"Approximation using quadratic B-splines\")"
   ]
  },
  {
   "cell_type": "raw",
   "metadata": {},
   "source": [
    "plot_func(xs, itperr, \"Absolute error of approximation using quadratic B-splines\")"
   ]
  },
  {
   "cell_type": "raw",
   "metadata": {},
   "source": [
    "interpolations_errfunc(itp, f, from, to)"
   ]
  },
  {
   "cell_type": "raw",
   "metadata": {},
   "source": [
    "plot_func(xs, ditps, \"Approximation of 1st derivative using quadratic B-splines\")"
   ]
  },
  {
   "cell_type": "raw",
   "metadata": {},
   "source": [
    "plot_func(xs, ditperr, \"Absolute error of approximation of 1st derivative using quadratic B-splines\")"
   ]
  },
  {
   "cell_type": "raw",
   "metadata": {},
   "source": [
    "interpolations_derrfunc(itp, df, from, to)"
   ]
  },
  {
   "cell_type": "raw",
   "metadata": {},
   "source": [
    "plot_func(xs_n, itps_n, \"Approximation using nudged data and quadratic B-splines\")"
   ]
  },
  {
   "cell_type": "raw",
   "metadata": {},
   "source": [
    "plot_func(xs_n, itperr_n, \"Absolute error of approximation using nudged data and quadratic B-splines\")"
   ]
  },
  {
   "cell_type": "raw",
   "metadata": {},
   "source": [
    "interpolations_errfunc(itp_n, f, from, to)"
   ]
  },
  {
   "cell_type": "raw",
   "metadata": {},
   "source": [
    "plot_func(xs_n, ditps_n, \"Approximation of 1st derivative using nudged data and quadratic B-splines\")"
   ]
  },
  {
   "cell_type": "raw",
   "metadata": {},
   "source": [
    "plot_func(xs_n, ditperr_n, \"Absolute error of approximation of 1st derivative using nudged data and quadratic B-splines\")"
   ]
  },
  {
   "cell_type": "raw",
   "metadata": {},
   "source": [
    "interpolations_derrfunc(itp_n, df, from, to)"
   ]
  }
 ],
 "metadata": {
  "kernelspec": {
   "display_name": "Julia 0.6.2",
   "language": "julia",
   "name": "julia-0.6"
  },
  "language_info": {
   "file_extension": ".jl",
   "mimetype": "application/julia",
   "name": "julia",
   "version": "0.6.2"
  }
 },
 "nbformat": 4,
 "nbformat_minor": 2
}
